{
 "cells": [
  {
   "cell_type": "markdown",
   "metadata": {},
   "source": [
    "### AEP and Area optimisation for HornsRev1 Site"
   ]
  },
  {
   "cell_type": "markdown",
   "metadata": {},
   "source": [
    "Importing relevant py_wake objects and necessary python packages"
   ]
  },
  {
   "cell_type": "code",
   "execution_count": null,
   "metadata": {},
   "outputs": [],
   "source": [
    "import numpy as np\n",
    "import matplotlib.pyplot as plt\n",
    "from shapely.geometry import Polygon\n",
    "import math\n",
    "from sklearn import preprocessing\n",
    "from scipy.spatial import ConvexHull, convex_hull_plot_2d\n",
    "#Pywake packages\n",
    "from py_wake.examples.data.hornsrev1 import V80 # The farm is comprised of 80 V80 turbines which\n",
    "from py_wake.examples.data.hornsrev1 import Hornsrev1Site #  Horns Rev 1 site,\n",
    "#from py_wake.examples.data.hornsrev1 import wt_x,wt_y # HornsRev 1 coordinates\n",
    "from py_wake.examples.data.lillgrund import LillgrundSite\n",
    "from py_wake.examples.data.lillgrund import wt_x,wt_y\n",
    "from py_wake.examples.data.lillgrund import SWT23\n",
    "from py_wake import BastankhahGaussian\n",
    "from py_wake.deficit_models.gaussian import ZongGaussian \n",
    "from py_wake.deficit_models.gaussian import IEA37SimpleBastankhahGaussian, NiayifarGaussian\n",
    "from py_wake.turbulence_models.stf import STF2017TurbulenceModel\n",
    "from py_wake.examples.data.iea34_130rwt import IEA34_130_1WT_Surrogate\n",
    "from py_wake.examples.data.iea37 import IEA37Site\n",
    "from py_wake.superposition_models import MaxSum\n",
    "#Topfarm packages\n",
    "from topfarm.cost_models.cost_model_wrappers import AEPMaxLoadCostModelComponent\n",
    "from topfarm.cost_models.cost_model_wrappers import CostModelComponent\n",
    "from topfarm.cost_models.cost_model_wrappers import AEPCostModelComponent\n",
    "from topfarm.easy_drivers import EasyScipyOptimizeDriver\n",
    "from topfarm import TopFarmProblem\n",
    "from topfarm.plotting import NoPlot, XYPlotComp\n",
    "from topfarm.constraint_components.boundary import CircleBoundaryConstraint\n",
    "from topfarm.constraint_components.boundary import XYBoundaryConstraint\n",
    "from topfarm.constraint_components.spacing import SpacingConstraint\n",
    "from topfarm.cost_models.py_wake_wrapper import PyWakeAEPCostModelComponent"
   ]
  },
  {
   "cell_type": "markdown",
   "metadata": {},
   "source": [
    "### Function to create a Square windfarm layout "
   ]
  },
  {
   "cell_type": "code",
   "execution_count": null,
   "metadata": {},
   "outputs": [],
   "source": [
    "def get_turbines(n_wt):\n",
    "    '''\n",
    "    This function generates a ficitonal squared wind farm layout with user input no of turbines is a squar number.\n",
    "    Parameters\n",
    "    ----------\n",
    "    n_wt(int) : Number of wind turbines in square numbers\n",
    "    Returns\n",
    "    -------\n",
    "    wt_xrt(list) : x-coordinates after rotation/translation/rot_trans\n",
    "    wt_yrt(list) : y-coordinates after rotation/translation/rot_trans\n",
    "    '''\n",
    "    wt_x = [] # List to store initial turbine coordinates \n",
    "    wt_y = [] \n",
    "    row=int(n_wt/np.sqrt(n_wt)) # defining number of turbines in each row\n",
    "    # Generate initial layout for the given number of turbines\n",
    "    for i in range(row):\n",
    "        for j in range(row):\n",
    "            nt_x = (j) # implements spacing in xcoordinates, coloumn wise increment\n",
    "            nt_y = (i) # Implements spacing in ycoordinates\n",
    "            wt_x.append(nt_x)\n",
    "            wt_y.append(nt_y)\n",
    "    coordinates = np.array([wt_x,wt_y])\n",
    "    plt.figure()\n",
    "    plt.plot(wt_x,wt_y,'.k')\n",
    "    plt.xlabel('Distance in x direction [m]')\n",
    "    plt.ylabel('Distance in y direction [m]')\n",
    "    plt.title('Fictional wind farm layout')\n",
    "    return wt_x,wt_y\n",
    "get_turbines(16)"
   ]
  },
  {
   "attachments": {},
   "cell_type": "markdown",
   "metadata": {},
   "source": [
    "### Defined a Pywake Site, Wind Turbine, Wake deficit and Turbulence models\n",
    "##### Site: A Uniform weibull site with ambient turbulent intesity of 0.1, Vref reference wind speed height at 80mts, turbine coordinates are defined.\n",
    "##### Wind turbine model: An IEA3.4MW load surrogate model is chosen here.\n",
    "##### Wind farm model: IEA 3.4MW Wind trubine, BastankhahGaussian wake deficit model, Stefan Frandsen turbulence model, Maxsum superposition model."
   ]
  },
  {
   "cell_type": "code",
   "execution_count": null,
   "metadata": {},
   "outputs": [],
   "source": [
    "n_wt = 16 #Number turbines in wind farm\n",
    "site = Hornsrev1Site() # Defines Wind farm site\n",
    "# wt = V80() # Defines Wind Turbine\n",
    "# windFarmModel = BastankhahGaussian(site, wt) # Flow Model\n",
    "wt = IEA34_130_1WT_Surrogate()\n",
    "windFarmModel = BastankhahGaussian(site, wt, turbulenceModel=STF2017TurbulenceModel(addedTurbulenceSuperpositionModel=MaxSum()))\n",
    "# Plot wind distribution\n",
    "site.plot_wd_distribution(n_wd=12)"
   ]
  },
  {
   "cell_type": "code",
   "execution_count": null,
   "metadata": {},
   "outputs": [],
   "source": [
    "# Turbine thrust and power curves\n",
    "ws = np.arange(5,25)\n",
    "plt.xlabel('Wind speed [m/s]')\n",
    "plt.ylabel('Power [kW]')\n",
    "plt.plot(ws, wt.power(ws,TI_eff =0.1)*1e-3,'.-', label='Power curve')\n",
    "plt.plot(ws, wt.ct(ws,TI_eff =0.1),'.-', label='Thrust')\n",
    "plt.legend(loc=1)"
   ]
  },
  {
   "cell_type": "code",
   "execution_count": null,
   "metadata": {},
   "outputs": [],
   "source": [
    "# Power and Thrust curve plots\n",
    "fig, ax1 = plt.subplots() \n",
    "  \n",
    "ax1.set_xlabel('Wind Speeds in m/s') \n",
    "ax1.set_ylabel('Power in Kw', color = 'red') \n",
    "ax1.plot(ws, wt.power(ws,TI_eff =0.1)*1e-3,'.-',color = 'red') \n",
    "ax1.tick_params(axis ='y', labelcolor = 'red') \n",
    "  \n",
    "# Adding Twin Axes\n",
    "\n",
    "ax2 = ax1.twinx() \n",
    "  \n",
    "ax2.set_ylabel('Thrust coefficient', color = 'blue') \n",
    "ax2.plot(ws, wt.ct(ws,TI_eff =0.1),'.-',color = 'blue') \n",
    "ax2.tick_params(axis ='y', labelcolor = 'blue') \n",
    "plt.title('Power and Thrust curve of IEA3.4MW turbine')\n",
    " \n",
    "# Show plot\n",
    "\n",
    "plt.show()"
   ]
  },
  {
   "cell_type": "code",
   "execution_count": null,
   "metadata": {},
   "outputs": [],
   "source": [
    "# from py_wake.superposition_models import MaxSum\n",
    "# D=130\n",
    "# plt.figure(figsize=(10,4))\n",
    "# plt.xlabel('Downwind distance [m]')\n",
    "# plt.ylabel('Crosswind distance[m]')\n",
    "# plt.title('Bastankhah Guassian wake deficit model')\n",
    "# windFarmModel([0,4*D],[0,0],wd=260,ws=12).flow_map().plot_wake_map(levels=np.arange(1,13))"
   ]
  },
  {
   "cell_type": "code",
   "execution_count": null,
   "metadata": {},
   "outputs": [],
   "source": [
    "# windFarmModel([0,4*D],[0,0],wd=260,ws=12)"
   ]
  },
  {
   "cell_type": "code",
   "execution_count": null,
   "metadata": {},
   "outputs": [],
   "source": [
    "# # plot load curves\n",
    "# u = np.arange(3, 28, 1)\n",
    "# sensors = wt.loadFunction.output_keys\n",
    "# axes = [plt.figure().gca() for _ in sensors]\n",
    "# for ti in [0.01, .05, .1, .3]:\n",
    "#     loads = wt.loads(u, TI_eff=ti)\n",
    "#     for ax, l in zip(axes, loads):\n",
    "#         ax.plot(u, l, label=f'TI={ti}')\n",
    "# # for alpha in [-0.09, .1, .3, .49]:\n",
    "# #     loads = wt.loads(u, TI_eff=.1, Alpha=alpha)\n",
    "# #     for ax, l in zip(axes, loads):\n",
    "# #         ax.plot(u, l, '--', label=f'Alpha={alpha}')\n",
    "# for ax, s in zip(axes, sensors):\n",
    "#     ax.set_title(s)\n",
    "#     ax.legend()"
   ]
  },
  {
   "cell_type": "code",
   "execution_count": null,
   "metadata": {},
   "outputs": [],
   "source": [
    "# # plot loads as function of wd and ws\n",
    "# plt.figure()\n",
    "# site = Hornsrev1Site()\n",
    "# x, y = [0,4*D],[0,0]\n",
    "# load_wd_averaged = windFarmModel([0,4*D],[0,0],wd=260,ws=12).loads(normalize_probabilities=True, method='OneWT_WDAvg')\n",
    "# loads = windFarmModel([0,4*D],[0,0],wd=260,ws=12).loads(normalize_probabilities=True, method='OneWT')\n",
    "# loads.DEL.isel(sensor=0, wt=0).plot()\n",
    "\n",
    "# for s in load_wd_averaged.sensor:\n",
    "#     print(s.item(), load_wd_averaged.LDEL.sel(sensor=s, wt=0).item(), loads.LDEL.sel(sensor=s, wt=0).item())\n",
    "# plt.show()"
   ]
  },
  {
   "cell_type": "code",
   "execution_count": null,
   "metadata": {},
   "outputs": [],
   "source": [
    "# plt.figure(figsize=(10,4))\n",
    "# plt.xlabel('Downwind distance [m]')\n",
    "# plt.ylabel('Crosswind distance[m]')\n",
    "# plt.title('Bastankhah Gaussian deficit')\n",
    "# windFarmModel([0,4*D],[0,0],wd=260,ws=12).flow_map().plot_ti_map()"
   ]
  },
  {
   "cell_type": "code",
   "execution_count": null,
   "metadata": {},
   "outputs": [],
   "source": [
    "# TI_model = BastankhahGaussian(site, wt, turbulenceModel=STF2017TurbulenceModel(addedTurbulenceSuperpositionModel=MaxSum()))"
   ]
  },
  {
   "cell_type": "code",
   "execution_count": null,
   "metadata": {},
   "outputs": [],
   "source": [
    "# TI_model([0,4*D],[0,0],wd=260,ws=12)"
   ]
  },
  {
   "cell_type": "code",
   "execution_count": null,
   "metadata": {},
   "outputs": [],
   "source": [
    "# # methods to plot turbulence map, used below to visualize and compare the deficit models\n",
    "\n",
    "# def plot_turb_map(turbulenceModel):\n",
    "#     xy = np.linspace(-200,500,200), np.linspace(-200,200,200)\n",
    "#     X,Y,deficit = _map(turbulenceModel.calc_added_turbulence, xy)\n",
    "#     c = plt.contourf(X,Y,deficit, levels=100, cmap='Blues')\n",
    "#     plt.colorbar(c, label=\"Added turbulence intensity [-]\")\n",
    "#     plt.plot([0,0],[-1/2,1/2],'k')\n",
    "#     plt.ylabel(\"Crosswind distance [y/D]\")\n",
    "#     plt.xlabel(\"downwind distance [x/D]\")\n",
    "\n",
    "# from py_wake.turbulence_models import STF2017TurbulenceModel\n",
    "# plot_turb_map(STF2017TurbulenceModel())"
   ]
  },
  {
   "attachments": {},
   "cell_type": "markdown",
   "metadata": {},
   "source": [
    "##### A new functionality has been added to the previously defined square wind farm layout, allowing the turbines to be rotated and translated, thereby optimizing the layout.\n",
    "##### The area of the layout is calculated by multiplying the Euclidean length and width of the final layout.\n",
    "##### The annual energy production of the wind farm layout is calculated at each iteration."
   ]
  },
  {
   "cell_type": "code",
   "execution_count": null,
   "metadata": {},
   "outputs": [],
   "source": [
    "def get_AEP(tr):\n",
    "    '''\n",
    "    This function generates a ficitonal squared wind farm layout for a user input no of turbines\n",
    "    and tries to change each turbine location either by rotation/ translation or both.\n",
    "    Parameters\n",
    "    ----------\n",
    "    tr(list) : A list with x,y spacing variables and theta.\n",
    "    tr[0]-sx(int) : Initial Spacing between the turbines in x-direction, mts\n",
    "    tr[1]-sy(int) : Initial Spacing between the turbines in y-direction, mts\n",
    "    tr[2]-theta(int) : For rotation, input theta in degrees\n",
    "    Returns\n",
    "    -------\n",
    "    aep_final(float) : Annual Energy production of final wind farm layout in Gwh\n",
    "    final_area(float) : Final layout area in m2.\n",
    "    wt_xrt(list) : X-coordinates of turbine positions\n",
    "    wt_yrt(list) : y-coordinates of turbine positions\n",
    "    '''\n",
    "    wt_rtx = []\n",
    "    wt_rty = [] # List to store turbine coordinates after translation and rotation\n",
    "    sx = tr[0] # Spacing between turbines in x-direction\n",
    "    sy = tr[1] # Spacing between turbines in y-direction\n",
    "    theta = tr[2] # Theta in degrees\n",
    "    row=int(n_wt/np.sqrt(n_wt)) # defining number of turbines in each row\n",
    "     # Translate and rotate the initial layout\n",
    "    for i in range(row):\n",
    "        for j in range(row):\n",
    "            wt_tx = (j)*sx # Increases spacing from intial coordinates\n",
    "            wt_ty = (i)*sy \n",
    "            wt_rtx.append(wt_tx)\n",
    "            wt_rty.append(wt_ty)\n",
    "    coordinates_rt = np.array([wt_rtx,wt_rty])\n",
    "    # # Implement boundary constraint\n",
    "    # if (theta<=45) :\n",
    "    #     center = [max(coordinates_rt.T[:,0])/2,max(coordinates_rt.T[:,1])/2] # Circle center\n",
    "    #     r = math.dist([0,0],center)*1.5 # Radius of circle\n",
    "    # else:\n",
    "    #     center = [-(max(coordinates_rt.T[:,0])/2),(max(coordinates_rt.T[:,1])/2)]\n",
    "    #     r = math.dist([0,0],center)*1.5\n",
    "    theta=np.deg2rad(theta) # Converts theta from degrees to radians\n",
    "    rotation = np.array([[np.cos(theta),-np.sin(theta)],\n",
    "                            [np.sin(theta),np.cos(theta)]])\n",
    "    final_coordinates = np.dot(rotation,coordinates_rt) # x,y-coordinates after rotation\n",
    "    wt_xrt = final_coordinates.T[:,0]\n",
    "    wt_yrt = final_coordinates.T[:,1]\n",
    "    # Plot initial and final layout\n",
    "    # M = 1000\n",
    "    # angle = np.exp(1j * 2 * np.pi / M)\n",
    "    # angles = np.cumprod(np.ones(M + 1) * angle)\n",
    "    # x, y = np.real(angles), np.imag(angles) \n",
    "    # X = center[0]+r * x\n",
    "    # Y = center[1]+r * y\n",
    "    plt.plot(wt_xrt,wt_yrt,'.b')\n",
    "    # plt.plot(X, Y)\n",
    "    #Calculate area of final layout\n",
    "    v1 = np.array([wt_xrt[0], wt_yrt[0]]) # Vertices of final layout\n",
    "    v2 = np.array([wt_xrt[row-1], wt_yrt[row-1]])\n",
    "    v3 = np.array([wt_xrt[-1], wt_yrt[-1]])\n",
    "    v4 = np.array([wt_xrt[-1], wt_yrt[-1]])\n",
    "    l = math.dist(v1,v2) # Distance between vertices\n",
    "    b = math.dist(v2,v3)\n",
    "    final_area = l*b\n",
    "    #Calculate Annual Energy Production of final layout\n",
    "    # wsp = np.asarray([4, 24])\n",
    "    # wdir = np.arange(0,360,1)\n",
    "    res = windFarmModel(wt_xrt,wt_yrt)\n",
    "    aep_final = res.aep().sum()\n",
    "    # # Loop to check if any of the turbine crossing boundary\n",
    "    # dist_v2c = math.dist(center,v2)\n",
    "    # dist_v3c = math.dist(center,v3)\n",
    "    # dist_v4c = math.dist(center,v4)\n",
    "    # if ((r>dist_v2c)&(r>dist_v3c)&(r>dist_v4c)):\n",
    "    #     rmax = 0.5\n",
    "    #     rmax = np.float128(rmax)\n",
    "    # else:\n",
    "    #     rmax = 1\n",
    "    #     rmax = np.float128(rmax)\n",
    "    return aep_final,final_area,wt_xrt,wt_yrt,res\n",
    "def get_optimize(tr):\n",
    "    '''\n",
    "    This function generates a ficitonal squared wind farm layout for a user input no of turbines\n",
    "    and tries to change each turbine location either by rotation/ translation or both.\n",
    "    Parameters\n",
    "    ----------\n",
    "    tr[0]-sx(int) : Initial Spacing between the turbines in x-direction, mts\n",
    "    tr[1]-sy(int) : Initial Spacing between the turbines in y-direction, mts\n",
    "    tr[2]-theta(int) : For rotation, input theta in degrees\n",
    "    Returns\n",
    "    -------\n",
    "    aep_final : Annual Energy production of final wind farm layout in Gwh\n",
    "    '''\n",
    "    aep_final,final_area,wt_xrt,wt_yrt,res = get_AEP(tr)\n",
    "    return aep_final\n",
    "def get_area(tr):\n",
    "    '''\n",
    "    This function generates a ficitonal squared wind farm layout for a user input no of turbines\n",
    "    and tries to change each turbine location either by rotation/ translation or both.\n",
    "    Parameters\n",
    "    ----------\n",
    "    tr[0]-sx(int) : Initial Spacing between the turbines in x-direction, mts\n",
    "    tr[1]-sy(int) : Initial Spacing between the turbines in y-direction, mts\n",
    "    tr[2]-theta(int) : For rotation, input theta in degrees\n",
    "    Returns\n",
    "    -------\n",
    "    finalarea, aep_final[list] : Returns a list of Layout AEP and corresponding Area\n",
    "    '''\n",
    "    aep_final,final_area,wt_xrt,wt_yrt,res = get_AEP(tr)\n",
    "    return [final_area,aep_final]\n",
    "def get_coord(tr):\n",
    "    '''\n",
    "    This function generates a ficitonal squared wind farm layout for a user input no of turbines\n",
    "    and tries to change each turbine location either by rotation/ translation or both.\n",
    "    Parameters\n",
    "    ----------\n",
    "    tr[0]-sx(int) : Initial Spacing between the turbines in x-direction, mts\n",
    "    tr[1]-sy(int) : Initial Spacing between the turbines in y-direction, mts\n",
    "    tr[2]-theta(int) : For rotation, input theta in degrees\n",
    "    Returns\n",
    "    -------\n",
    "    wt_xrt(list) : X-coordinates of turbine positions\n",
    "    wt_yrt(list) : y-coordinates of turbine positions\n",
    "    '''\n",
    "    aep_final,final_area,wt_xrt,wt_yrt,res = get_AEP(tr)\n",
    "    return wt_xrt,wt_yrt\n",
    "def get_loads(tr):\n",
    "    aep_final,final_area,wt_xrt,wt_yrt,res = get_AEP(tr)\n",
    "    loads = res.loads('OneWT')['LDEL'].values\n",
    "    return [aep_final,final_area,loads]\n",
    "def get_cap_density(tr):\n",
    "    aep_final,final_area,wt_xrt,wt_yrt,res = get_AEP(tr)\n",
    "    aep_final = aep_final*1e3 # GwH to MwH\n",
    "    final_area = final_area*1e-6 # m2 to Km2\n",
    "    cd = aep_final/final_area\n",
    "    loads = res.loads('OneWT')['LDEL'].values\n",
    "    return [cd,aep_final,final_area,loads]"
   ]
  },
  {
   "attachments": {},
   "cell_type": "markdown",
   "metadata": {},
   "source": [
    "### Step 1 : Define TopFarm problem to maximize AEP with lower and upper bound spacing constraints\n",
    "\n",
    "- n_wt - No of wind turbines \n",
    "- D - Diameter of IEA3.4Mw wind turbine\n",
    "- Solver - Sequential Least-Squares programming algorithm (SLSQP) - Gradient based\n",
    "- maxiter - Maximum number of iterations\n",
    "- tol - Optimizer tolerance\n",
    "- tr - [spacing in x, spacing in y, Theta in degrees]\n",
    "- lb - lower bounds\n",
    "- ub - upper bounds\n",
    "- ap - initial value for aep"
   ]
  },
  {
   "cell_type": "code",
   "execution_count": null,
   "metadata": {},
   "outputs": [],
   "source": [
    "#TopFarm problem to maximize aep\n",
    "n_wt = 16 # \n",
    "D = 130 # Diameter of 3.4Mw turbine\n",
    "maxiter = 500\n",
    "tol = 1e-7\n",
    "tr = [4*D,4*D,0] # Initial conditions \n",
    "step = 1e-3\n",
    "lb = [3*D,3*D,0] # Lower bound \n",
    "ub = [8*D,8*D,90] # Upper bound\n",
    "ap=0 \n",
    "aep_comp1 = CostModelComponent(input_keys=[('tr',tr)],\n",
    "                              n_wt=n_wt,\n",
    "                              cost_function=get_optimize,\n",
    "                              objective=True,\n",
    "                              maximize=True, \n",
    "                              step={'tr': step},\n",
    "                              output_keys=[('aep_final',ap)])\n",
    "                              \n",
    "problem1 = TopFarmProblem(design_vars={'tr':(tr,lb,ub)},\n",
    "                          cost_comp=aep_comp1,\n",
    "                          driver=EasyScipyOptimizeDriver(optimizer='SLSQP',maxiter=maxiter,tol=tol))"
   ]
  },
  {
   "cell_type": "code",
   "execution_count": null,
   "metadata": {},
   "outputs": [],
   "source": [
    "cost1, state1, recorder1 = problem1.optimize()"
   ]
  },
  {
   "cell_type": "code",
   "execution_count": null,
   "metadata": {},
   "outputs": [],
   "source": [
    "get_loads(state1['tr'])"
   ]
  },
  {
   "cell_type": "code",
   "execution_count": null,
   "metadata": {},
   "outputs": [],
   "source": [
    "# recorder1.save('AEP_calc_seq1')"
   ]
  },
  {
   "cell_type": "code",
   "execution_count": null,
   "metadata": {},
   "outputs": [],
   "source": [
    "state = state1['tr']\n",
    "print(state)\n",
    "get_optimize(state)"
   ]
  },
  {
   "cell_type": "code",
   "execution_count": null,
   "metadata": {},
   "outputs": [],
   "source": [
    "# Get coordinates of initial and optimised layout\n",
    "wt_aepx_opt,wt_aepy_opt = get_coord(state) # Optimised layout coordinates\n",
    "wt_aepx_int,wt_aepy_int = get_coord(tr) # Initial layout coordinates"
   ]
  },
  {
   "cell_type": "code",
   "execution_count": null,
   "metadata": {},
   "outputs": [],
   "source": [
    "def get_con_area(x,y):\n",
    "    coordinates = np.zeros((len(x),2))\n",
    "    for i in range (len(coordinates)):\n",
    "        coordinates[i] = [x[i],y[i]]\n",
    "    points = coordinates  # Wind farm points\n",
    "    hull = ConvexHull(points)\n",
    "    vert_indx = np.sort(hull.vertices)\n",
    "    con_vert = coordinates[vert_indx]\n",
    "    area = hull.volume\n",
    "    return area\n",
    "wt_arx,wt_ary = get_coord(state)\n",
    "get_con_area(wt_arx,wt_ary)"
   ]
  },
  {
   "cell_type": "code",
   "execution_count": null,
   "metadata": {},
   "outputs": [],
   "source": [
    "# get_area(state)"
   ]
  },
  {
   "cell_type": "code",
   "execution_count": null,
   "metadata": {},
   "outputs": [],
   "source": [
    "# Plots for design variables and AEP\n",
    "plt.figure()\n",
    "plt.plot(recorder1['aep_final'],label='AEP in Gwh')\n",
    "plt.xlabel('No of Iterations')\n",
    "plt.ylabel('AEP [GWh]')\n",
    "plt.title(' Variation of AEP during optimization')\n",
    "plt.legend()"
   ]
  },
  {
   "cell_type": "code",
   "execution_count": null,
   "metadata": {},
   "outputs": [],
   "source": [
    "xcoord = recorder1['tr']\n",
    "plt.plot(xcoord[:,0],label='x-coord')\n",
    "plt.xlabel('No of Iterations')\n",
    "plt.ylabel('Spacing in x-direction [mts]')\n",
    "plt.title('Change in spacing- horizontal direction')\n",
    "plt.legend()"
   ]
  },
  {
   "cell_type": "code",
   "execution_count": null,
   "metadata": {},
   "outputs": [],
   "source": [
    "plt.plot(xcoord[:,1],'m',label='y-coord',)\n",
    "plt.xlabel('No of Iterations')\n",
    "plt.ylabel('Spacing in y-direction [mtrs]')\n",
    "plt.title('Change in spacing -vertical direction')\n",
    "plt.legend()"
   ]
  },
  {
   "cell_type": "code",
   "execution_count": null,
   "metadata": {},
   "outputs": [],
   "source": [
    "plt.plot(xcoord[:,2],'g',label='Theta')\n",
    "plt.xlabel('No of Iterations')\n",
    "plt.ylabel('Theta [deg]')\n",
    "plt.title('Change in Theta')\n",
    "plt.legend()"
   ]
  },
  {
   "cell_type": "code",
   "execution_count": null,
   "metadata": {},
   "outputs": [],
   "source": [
    "plt.figure()\n",
    "plt.plot(xcoord[:,0],label='x-coord in mts')\n",
    "plt.plot(xcoord[:,1],'m',label='y-coord in mts')\n",
    "plt.plot(xcoord[:,2],label='Theta in Deg')\n",
    "plt.xlabel('No of Iterations')\n",
    "plt.ylabel('Spacing in x and y [mts] and Theta [Deg]')\n",
    "plt.legend()\n",
    "plt.show()"
   ]
  },
  {
   "attachments": {},
   "cell_type": "markdown",
   "metadata": {},
   "source": [
    "#### Comparison of optimized layout with initial layout after step1"
   ]
  },
  {
   "cell_type": "code",
   "execution_count": null,
   "metadata": {},
   "outputs": [],
   "source": [
    "plt.figure()\n",
    "plt.scatter(wt_aepx_opt,wt_aepy_opt,label='optimized layout',marker='*')\n",
    "# plt.scatter(farm_lx,farm_ly,label='Farm Boundary',marker='o')\n",
    "# plt.scatter(bound_lx,bound_ly,label='Initial Boundary')\n",
    "# plt.scatter(recording3['x'][1],recording3['y'][1],label='x,y 2nd', marker='*')\n",
    "# plt.scatter(recording3['x'][2],recording3['y'][2],label='x,y 3rd', marker='_')\n",
    "plt.scatter(wt_aepx_int,wt_aepy_int,label='Iniital layout', marker='o')\n",
    "plt.xlabel('X[m]')\n",
    "plt.ylabel('Y[m]')\n",
    "plt.title('Wind farm layout during AEP optimization')\n",
    "#plt.plot(wt_nx,wt_ny,'2b')\n",
    "#plt.plot(wt_areax,wt_areay,'2g')\n",
    "plt.legend()\n",
    "plt.show()"
   ]
  },
  {
   "cell_type": "code",
   "execution_count": null,
   "metadata": {},
   "outputs": [],
   "source": [
    "plt.figure(figsize=(8,6))\n",
    "aep_res = windFarmModel(wt_aepx_int,wt_aepy_int)\n",
    "flow_map = aep_res.flow_map(ws = 10, wd=260)\n",
    "flow_map.plot_wake_map()\n",
    "plt.title('Flow map of Initial wind farm layout, Ambient TI=0.1,WS=10m/s')\n",
    "plt.xlabel('X[m]')\n",
    "plt.ylabel('Y[m]')"
   ]
  },
  {
   "attachments": {},
   "cell_type": "markdown",
   "metadata": {},
   "source": [
    "#### Flowmap of Optimized layout"
   ]
  },
  {
   "cell_type": "code",
   "execution_count": null,
   "metadata": {},
   "outputs": [],
   "source": [
    "plt.figure(figsize=(8,6))\n",
    "aep_res = windFarmModel(wt_aepx_opt,wt_aepy_opt)\n",
    "flow_map = aep_res.flow_map(ws = 10, wd=260)\n",
    "flow_map.plot_wake_map()\n",
    "plt.title('Flow map of Optimized wind farm layout, Ambient TI=0.1,WS=10m/s')\n",
    "plt.xlabel('X[m]')\n",
    "plt.ylabel('Y[m]')"
   ]
  },
  {
   "attachments": {},
   "cell_type": "markdown",
   "metadata": {},
   "source": [
    "### Step2: Define TopFarm problem to minimize Area under lower and upper bound spacing constraints\n",
    " \n",
    "- n_wt - No of wind turbines \n",
    "- D - Diameter of IEA3.4Mw wind turbine\n",
    "- Solver - SLSQP\n",
    "- maxiter - Maximum number of iterations\n",
    "- tol - Optimizer tolerance\n",
    "- tr - [spacing in x, spacing in y, Theta in degrees]\n",
    "- lb - lower bounds\n",
    "- ub - upper bounds\n",
    "- ap - initial value for aep\n",
    "- max_aep - maximum aep is set to 98% of optimal AEP"
   ]
  },
  {
   "cell_type": "code",
   "execution_count": null,
   "metadata": {},
   "outputs": [],
   "source": [
    "# Topfarm problem to minimize area\n",
    "n_wt=16\n",
    "D=130\n",
    "maxiter=500\n",
    "tol=1e-7\n",
    "tr = state # Initial condition starting from optimal values of AEP optimization\n",
    "step = 1e-3\n",
    "lb = [3*D,3*D,0]\n",
    "ub = [8*D,8*D,90]\n",
    "ap=0\n",
    "max_aep = -0.98*cost1\n",
    "print(max_aep)\n",
    "aep_comp2 = CostModelComponent(input_keys=[('tr',tr)],\n",
    "                                n_wt=n_wt, cost_function=get_area,\n",
    "                                objective=True, step={'tr': step},\n",
    "                                output_keys=[('final_area',0),('aep_final',ap)])\n",
    "problem2 = TopFarmProblem(design_vars= {'tr':(tr,lb,ub)},\n",
    "                            post_constraints=[('aep_final',{'lower':max_aep})],\n",
    "                            cost_comp=aep_comp2,\n",
    "                            driver=EasyScipyOptimizeDriver(optimizer='SLSQP', maxiter=maxiter,tol=tol),\n",
    "                            expected_cost=1)"
   ]
  },
  {
   "cell_type": "code",
   "execution_count": null,
   "metadata": {},
   "outputs": [],
   "source": [
    "cost2, state2, recorder2 = problem2.optimize()"
   ]
  },
  {
   "cell_type": "code",
   "execution_count": null,
   "metadata": {},
   "outputs": [],
   "source": [
    "# recorder2.save('Area_calc_seq2')"
   ]
  },
  {
   "cell_type": "code",
   "execution_count": null,
   "metadata": {},
   "outputs": [],
   "source": [
    "state_ar = state2['tr']\n",
    "print(state_ar)\n",
    "get_area(state_ar)"
   ]
  },
  {
   "cell_type": "code",
   "execution_count": null,
   "metadata": {},
   "outputs": [],
   "source": [
    "# Get coordinates of initial and optimised layout\n",
    "wt_areax_opt,wt_areay_opt = get_coord(state_ar) # Optimised layout coordinates\n",
    "wt_areax_int,wt_areay_int = get_coord(state) # Initial layout coordinates"
   ]
  },
  {
   "cell_type": "code",
   "execution_count": null,
   "metadata": {},
   "outputs": [],
   "source": [
    "plt.figure()\n",
    "plt.scatter(wt_areax_opt,wt_areay_opt,label='optimized layout',marker='*')\n",
    "# plt.scatter(farm_lx,farm_ly,label='Farm Boundary',marker='o')\n",
    "# plt.scatter(bound_lx,bound_ly,label='Initial Boundary')\n",
    "# plt.scatter(recording3['x'][1],recording3['y'][1],label='x,y 2nd', marker='*')\n",
    "# plt.scatter(recording3['x'][2],recording3['y'][2],label='x,y 3rd', marker='_')\n",
    "plt.scatter(wt_areax_int,wt_areay_int,label='Iniital layout', marker='o')\n",
    "plt.xlabel('X[m]')\n",
    "plt.ylabel('Y[m]')\n",
    "plt.title('Wind farm layout during Area optimization')\n",
    "#plt.plot(wt_nx,wt_ny,'2b')\n",
    "#plt.plot(wt_areax,wt_areay,'2g')\n",
    "plt.legend()\n",
    "plt.show()"
   ]
  },
  {
   "cell_type": "code",
   "execution_count": null,
   "metadata": {},
   "outputs": [],
   "source": [
    "plt.figure(figsize=(8,6))\n",
    "area_res = windFarmModel(wt_areax_opt,wt_areay_opt)\n",
    "flow_map = area_res.flow_map(ws = 10, wd=260)\n",
    "flow_map.plot_wake_map()\n",
    "plt.title('Flow map of Optimized wind farm layout, Ambient TI=0.1,WS=10m/s')\n",
    "plt.xlabel('X[m]')\n",
    "plt.ylabel('Y[m]')\n",
    "plt.show()"
   ]
  },
  {
   "cell_type": "code",
   "execution_count": null,
   "metadata": {},
   "outputs": [],
   "source": [
    "# Plots for design variables and AEP\n",
    "plt.plot(recorder2['aep_final'],label='AEP in Gwh')\n",
    "plt.plot(plt.xlim(),[max_aep,max_aep], label='Minimum AEP' )\n",
    "plt.xlabel('No of Iterations')\n",
    "plt.ylabel('AEP [GWh]')\n",
    "plt.title('Variation in AEP during Area Optimization')\n",
    "plt.legend()"
   ]
  },
  {
   "cell_type": "code",
   "execution_count": null,
   "metadata": {},
   "outputs": [],
   "source": [
    "# Plots for design variables and AEP\n",
    "plt.plot(recorder2['final_area'],'k',label='Area in m2')\n",
    "plt.title('Variation in Area during Area optimization')\n",
    "plt.xlabel('No of Iterations')\n",
    "plt.ylabel('Area [m2]')\n",
    "plt.legend()"
   ]
  },
  {
   "cell_type": "code",
   "execution_count": null,
   "metadata": {},
   "outputs": [],
   "source": [
    "coord = recorder2['tr']\n",
    "plt.plot(coord[:,0],label='x-coord')\n",
    "plt.xlabel('No of Iterations')\n",
    "plt.ylabel('Spacing in x-direction [mts]')\n",
    "plt.title('Change in spacing for horizontal direction')\n",
    "plt.legend()"
   ]
  },
  {
   "cell_type": "code",
   "execution_count": null,
   "metadata": {},
   "outputs": [],
   "source": [
    "plt.plot(coord[:,1],'m',label='y-coord',)\n",
    "plt.xlabel('No of Iterations')\n",
    "plt.ylabel('Spacing in y-direction [m]')\n",
    "plt.title('Change in spacing for vertical direction')\n",
    "plt.legend()"
   ]
  },
  {
   "cell_type": "code",
   "execution_count": null,
   "metadata": {},
   "outputs": [],
   "source": [
    "plt.plot(coord[:,2],'k',label='Theta',)\n",
    "plt.xlabel('No of Iterations')\n",
    "plt.ylabel('Theta [Deg]')\n",
    "plt.title('Change in Theta')\n",
    "plt.legend()"
   ]
  },
  {
   "cell_type": "code",
   "execution_count": null,
   "metadata": {},
   "outputs": [],
   "source": [
    "plt.plot(coord[:,0],label='y-coord')\n",
    "plt.plot(coord[:,1],label='x-coord')\n",
    "plt.plot(coord[:,2],label='Theta in Deg')\n",
    "plt.xlabel('No fo Iterations')\n",
    "plt.ylabel('Coordinates and Theta')\n",
    "plt.legend()"
   ]
  },
  {
   "cell_type": "code",
   "execution_count": null,
   "metadata": {},
   "outputs": [],
   "source": [
    "Area_opt_AEP = [303.10780531,297.04564918,294.04,291.01,287.98]\n",
    "Area_opt_Area = [5153527.946294739,5014358.82992715,2856048.9916359526,2135221.387851181,1760763.5648305602]\n",
    "plt.plot(Area_opt_AEP,Area_opt_Area)\n",
    "plt.xlabel('Maximum AEP [GWh]')\n",
    "plt.ylabel('Optimised Area [m2]')\n",
    "plt.title('Pareto Front')"
   ]
  },
  {
   "cell_type": "code",
   "execution_count": null,
   "metadata": {},
   "outputs": [],
   "source": [
    "trco = state_ar\n",
    "x,y = get_coord(trco)"
   ]
  },
  {
   "attachments": {},
   "cell_type": "markdown",
   "metadata": {},
   "source": [
    "### Calculation of Maximum Loads\n",
    "- i - No of wind turbines\n",
    "- trco - Initial condition - from optimal values of Area optimization\n",
    "- load factor - 3% upscaled"
   ]
  },
  {
   "cell_type": "code",
   "execution_count": null,
   "metadata": {},
   "outputs": [],
   "source": [
    "i = 16\n",
    "# trco = state_ar # Initial conditions to start the optimisation\n",
    "# x,y = get_coord(trco) # Turbine positions from initial conditions\n",
    "# wsp = np.asarray([4, 24])\n",
    "# wdir = np.arange(0,360,12)\n",
    "# k = wsp.size\n",
    "# l = wdir.size\n",
    "load_fact = 1.03\n",
    "# simulationResult = windFarmModel(x,y,wd=wdir, ws=wsp)\n",
    "# nom_loads = simulationResult.loads('OneWT')['LDEL'].values\n",
    "# max_loads = (nom_loads * load_fact)\n",
    "aep, area, nom_loads = get_loads(trco)\n",
    "max_loads = (nom_loads*load_fact)\n",
    "s = nom_loads.shape[0]\n",
    "load_signals = ['del_blade_flap', 'del_blade_edge', 'del_tower_bottom_fa',\n",
    "                'del_tower_bottom_ss', 'del_tower_top_torsion']\n",
    "output_loads = np.zeros((5,16))\n",
    "# print(max_loads)\n"
   ]
  },
  {
   "cell_type": "code",
   "execution_count": null,
   "metadata": {},
   "outputs": [],
   "source": [
    "# Function to calculate loads of a wind turbines\n",
    "# def get_Load(tr):\n",
    "#     # tr = [sx,sy,theta]\n",
    "#     aep_final,final_area,wt_xrt,wt_yrt = get_AEP(tr)\n",
    "#     loads = windFarmModel(wt_xrt,wt_yrt,wd=wdir, ws=wsp).loads('OneWT')['LDEL'].values\n",
    "#     return [aep_final,final_area,loads]"
   ]
  },
  {
   "attachments": {},
   "cell_type": "markdown",
   "metadata": {},
   "source": [
    "### Step3: Define TopFarm problem to maximize AEP under fatigue load constraints\n",
    " \n",
    "- n_wt - No of wind turbines \n",
    "- D - Diameter of IEA3.4Mw wind turbine\n",
    "- Solver - SLSQP\n",
    "- maxiter - Maximum number of iterations\n",
    "- tol - Optimizer tolerance\n",
    "- tr - [spacing in x, spacing in y, Theta in degrees]\n",
    "- lb - lower bounds\n",
    "- ub - upper bounds\n",
    "- max area - 5% upscale. This metric is included to allow the solver to refine the design space to maximize AEP."
   ]
  },
  {
   "cell_type": "code",
   "execution_count": null,
   "metadata": {},
   "outputs": [],
   "source": [
    "# Declare optimizer values for Load constraints\n",
    "n_wt = 16\n",
    "D = 130\n",
    "step = 1e-3\n",
    "tol = 1e-7\n",
    "trco = state_ar #Initial conditions - optimal values from Area optimization\n",
    "lb = [3*D,3*D,0]\n",
    "ub = [8*D,8*D,90]\n",
    "#min_aep = -0.97*cost1\n",
    "#print(min_aep)\n",
    "max_area = recorder2['final_area'][-1]\n",
    "max_area = max_area*1.05\n",
    "print(max_area)\n",
    "# Setup aep/cost component\n",
    "aep_comp3 = CostModelComponent(input_keys=[('tr',trco)],\n",
    "                                          n_wt = n_wt,\n",
    "                                          cost_function = get_loads,\n",
    "                                          step = {'tr':step},\n",
    "                                          objective=True,\n",
    "                                          maximize=True,\n",
    "                                          output_keys=[ ('aep_final',0),('final_area', 0),('loads', output_loads)]\n",
    "                                          )"
   ]
  },
  {
   "cell_type": "code",
   "execution_count": null,
   "metadata": {},
   "outputs": [],
   "source": [
    "# Setup topfarm problem for aep maximization with load constraints\n",
    "problem3 = TopFarmProblem(design_vars={'tr':(trco,lb,ub)},\n",
    "                          post_constraints=[('final_area',{'upper': max_area}),\n",
    "                           ('loads',{'upper':max_loads}) ], \n",
    "                          cost_comp=aep_comp3,\n",
    "                          driver=EasyScipyOptimizeDriver(optimizer='SLSQP', maxiter=maxiter,tol=tol),\n",
    "                          expected_cost=1\n",
    "                            ) "
   ]
  },
  {
   "cell_type": "code",
   "execution_count": null,
   "metadata": {},
   "outputs": [],
   "source": [
    "max_area"
   ]
  },
  {
   "cell_type": "code",
   "execution_count": null,
   "metadata": {},
   "outputs": [],
   "source": [
    "cost3,state3,recorder3 = problem3.optimize()"
   ]
  },
  {
   "cell_type": "code",
   "execution_count": null,
   "metadata": {},
   "outputs": [],
   "source": [
    "# recorder3.save('Aep_loads_calc_seq3')"
   ]
  },
  {
   "cell_type": "code",
   "execution_count": null,
   "metadata": {},
   "outputs": [],
   "source": [
    "state_lc = state3['tr']\n",
    "print(state_lc)\n",
    "get_loads(state_lc)"
   ]
  },
  {
   "cell_type": "code",
   "execution_count": null,
   "metadata": {},
   "outputs": [],
   "source": [
    "plt.figure()\n",
    "plt.plot(recorder3['aep_final'], label ='AEP in Gwh')\n",
    "plt.xlabel('No of iterations')\n",
    "plt.ylabel('AEP [Gwh]')\n",
    "plt.title('AEP during AEP maximization under load constraints')\n",
    "plt.legend()\n",
    "plt.show()"
   ]
  },
  {
   "cell_type": "code",
   "execution_count": null,
   "metadata": {},
   "outputs": [],
   "source": [
    "plt.figure()\n",
    "plt.plot(recorder3['final_area'],label='optimised area in m2')\n",
    "plt.plot(plt.xlim(),[max_area,max_area], label='Maximum Area in m2' )\n",
    "plt.xlabel('No of iterations')\n",
    "plt.ylabel('Area [m2]')\n",
    "plt.title('Area during AEP maximization under load constraints')\n",
    "plt.legend()\n",
    "plt.show()"
   ]
  },
  {
   "cell_type": "code",
   "execution_count": null,
   "metadata": {},
   "outputs": [],
   "source": [
    "# Get coordinates of initial and optimised layout\n",
    "wt_aepldx_opt,wt_aepldy_opt = get_coord(state_lc) # Optimised layout coordinates\n",
    "wt_aepldx_int,wt_aepldy_int = get_coord(state_ar) # Initial layout coordinates"
   ]
  },
  {
   "cell_type": "code",
   "execution_count": null,
   "metadata": {},
   "outputs": [],
   "source": [
    "plt.figure()\n",
    "plt.scatter(wt_aepldx_opt,wt_aepldy_opt,label='optimized layout',marker='*')\n",
    "# plt.scatter(farm_lx,farm_ly,label='Farm Boundary',marker='o')\n",
    "# plt.scatter(bound_lx,bound_ly,label='Initial Boundary')\n",
    "# plt.scatter(recording3['x'][1],recording3['y'][1],label='x,y 2nd', marker='*')\n",
    "# plt.scatter(recording3['x'][2],recording3['y'][2],label='x,y 3rd', marker='_')\n",
    "plt.scatter(wt_aepldx_int,wt_aepldy_int,label='Iniital layout', marker='o')\n",
    "plt.xlabel('X[m]')\n",
    "plt.ylabel('Y[m]')\n",
    "plt.title('Wind farm layout during AEP optimization under load constraints')\n",
    "#plt.plot(wt_nx,wt_ny,'2b')\n",
    "#plt.plot(wt_areax,wt_areay,'2g')\n",
    "plt.legend()\n",
    "plt.show()"
   ]
  },
  {
   "cell_type": "code",
   "execution_count": null,
   "metadata": {},
   "outputs": [],
   "source": [
    "n_i = recorder3['counter'].size\n",
    "loads = recorder3['loads'].reshape((n_i,s,n_wt))\n",
    "wt = 0\n",
    "for n, ls in enumerate(load_signals):\n",
    "  plt.plot(loads[:,n,wt],label='optimised loads')\n",
    "  plt.title(ls+f' turbine {wt}')\n",
    "  plt.plot([0, n_i], [max_loads[n, wt], max_loads[n, wt]],label='Maximum loads')\n",
    "  plt.xlabel(\"No of iterations\")\n",
    "  plt.ylabel(\"Loads\")\n",
    "  plt.legend()\n",
    "  plt.show()"
   ]
  },
  {
   "cell_type": "code",
   "execution_count": null,
   "metadata": {},
   "outputs": [],
   "source": [
    "# Declare optimizer values for energy density with load constraints\n",
    "n_wt = 16\n",
    "D = 130\n",
    "step = 1e-3\n",
    "tol = 1e-6\n",
    "trco = state_lc #Initial conditions - optimal values from loads optimization\n",
    "lb = [3*D,3*D,0]\n",
    "ub = [8*D,8*D,90]\n",
    "min_aep = -cost3*1e3*0.98\n",
    "print(min_aep)\n",
    "max_area = recorder2['final_area'][-1]\n",
    "max_area = max_area*1e-6*1.05\n",
    "print(max_area)\n",
    "# Setup aep/cost component\n",
    "aep_comp4 = CostModelComponent(input_keys=[('tr',trco)],\n",
    "                                          n_wt = n_wt,\n",
    "                                          cost_function = get_cap_density,\n",
    "                                          step = {'tr':step},\n",
    "                                          objective=True,\n",
    "                                          maximize=True,\n",
    "                                          output_keys=[ ('cd',0),('aep_final',0),('final_area', 0),('loads', output_loads)]\n",
    "                                          )"
   ]
  },
  {
   "cell_type": "code",
   "execution_count": null,
   "metadata": {},
   "outputs": [],
   "source": [
    "# Setup topfarm problem for aep maximization with load constraints\n",
    "problem4 = TopFarmProblem(design_vars={'tr':(trco,lb,ub)},\n",
    "                          post_constraints=[('aep_final',{'lower': min_aep}),('final_area',{'upper': max_area}),\n",
    "                           ('loads',{'upper':max_loads}) ], \n",
    "                          cost_comp=aep_comp4,\n",
    "                          driver=EasyScipyOptimizeDriver(optimizer='SLSQP', maxiter=maxiter,tol=tol),\n",
    "                          expected_cost=1\n",
    "                            )\n"
   ]
  },
  {
   "cell_type": "code",
   "execution_count": null,
   "metadata": {},
   "outputs": [],
   "source": [
    "cost4,state4,recorder4 = problem4.optimize()"
   ]
  },
  {
   "cell_type": "code",
   "execution_count": null,
   "metadata": {},
   "outputs": [],
   "source": [
    "# recorder4.save('Ed_calc_seq4')"
   ]
  },
  {
   "cell_type": "code",
   "execution_count": null,
   "metadata": {},
   "outputs": [],
   "source": [
    "state_cd = state4['tr']\n",
    "print(state_cd)\n",
    "get_cap_density(state_cd)"
   ]
  },
  {
   "cell_type": "code",
   "execution_count": null,
   "metadata": {},
   "outputs": [],
   "source": [
    "plt.plot(recorder4['aep_final'],label='Optimised_AEP')\n",
    "plt.plot(plt.xlim(),[min_aep,min_aep], label='Minimum AEP in Mwh' )\n",
    "plt.xlabel('No of iterations')\n",
    "plt.ylabel('AEP [Mwh]')\n",
    "plt.title('Variation of AEP during Energy Density optimization')\n",
    "plt.legend()\n",
    "plt.show()"
   ]
  },
  {
   "cell_type": "code",
   "execution_count": null,
   "metadata": {},
   "outputs": [],
   "source": [
    "plt.plot((recorder4['cd']/8760),label='Energy_denisty')\n",
    "plt.xlabel('No of iterations')\n",
    "plt.ylabel('Energy Density [Mw/Km2]')\n",
    "plt.title('Variation of Energy Density during Energy Density optimization')\n",
    "plt.legend()\n",
    "plt.show()"
   ]
  },
  {
   "cell_type": "code",
   "execution_count": null,
   "metadata": {},
   "outputs": [],
   "source": [
    "plt.plot(recorder4['final_area'],label='Area in Km2')\n",
    "plt.xlabel('No of iterations')\n",
    "plt.ylabel('Area [km2]')\n",
    "plt.title('Variation of Areaduring Energy Density optimization')\n",
    "plt.legend()\n",
    "plt.show()"
   ]
  },
  {
   "cell_type": "code",
   "execution_count": null,
   "metadata": {},
   "outputs": [],
   "source": [
    "coord=recorder4['tr']\n",
    "plt.plot(coord[:,0],'b',label='x-coord',)\n",
    "plt.xlabel('No of Iterations')\n",
    "plt.ylabel('Spacing in x-direction [m]')\n",
    "plt.title('Change in spacing for horizontal direction')\n",
    "plt.legend()"
   ]
  },
  {
   "cell_type": "code",
   "execution_count": null,
   "metadata": {},
   "outputs": [],
   "source": [
    "plt.plot(coord[:,1],'m',label='y-coord',)\n",
    "plt.xlabel('No of Iterations')\n",
    "plt.ylabel('Spacing in y-direction [m]')\n",
    "plt.title('Change in spacing for vertical direction')\n",
    "plt.legend()"
   ]
  },
  {
   "cell_type": "code",
   "execution_count": null,
   "metadata": {},
   "outputs": [],
   "source": [
    "plt.plot(coord[:,2],'k',label='Theta',)\n",
    "plt.xlabel('No of Iterations')\n",
    "plt.ylabel('Theta [deg]')\n",
    "plt.title('Change in Theta')\n",
    "plt.legend()"
   ]
  },
  {
   "cell_type": "code",
   "execution_count": null,
   "metadata": {},
   "outputs": [],
   "source": [
    "# Get coordinates of initial and optimised layout\n",
    "wt_edx_opt,wt_edy_opt = get_coord(state_cd) # Optimised layout coordinates\n",
    "wt_edx_int,wt_edy_int = get_coord(state_lc) # Initial layout coordinates"
   ]
  },
  {
   "cell_type": "code",
   "execution_count": null,
   "metadata": {},
   "outputs": [],
   "source": [
    "plt.figure()\n",
    "plt.scatter(wt_edx_opt,wt_edy_opt,label='optimized layout',marker='*')\n",
    "# plt.scatter(farm_lx,farm_ly,label='Farm Boundary',marker='o')\n",
    "# plt.scatter(bound_lx,bound_ly,label='Initial Boundary')\n",
    "# plt.scatter(recording3['x'][1],recording3['y'][1],label='x,y 2nd', marker='*')\n",
    "# plt.scatter(recording3['x'][2],recording3['y'][2],label='x,y 3rd', marker='_')\n",
    "plt.scatter(wt_aepx_opt,wt_aepy_opt,label='Iniital layout', marker='o')\n",
    "plt.xlabel('X[m]')\n",
    "plt.ylabel('Y[m]')\n",
    "plt.title('Comparison of wind farm layout after first and last optimization')\n",
    "#plt.plot(wt_nx,wt_ny,'2b')\n",
    "#plt.plot(wt_areax,wt_areay,'2g')\n",
    "plt.legend()\n",
    "plt.show()"
   ]
  },
  {
   "cell_type": "code",
   "execution_count": null,
   "metadata": {},
   "outputs": [],
   "source": [
    "plt.figure(figsize=(8,6))\n",
    "area_res = windFarmModel(wt_aepldx_opt,wt_aepldy_opt)\n",
    "flow_map = area_res.flow_map(ws = 10, wd=260).plot_ti_map()\n",
    "# flow_map.plot_wake_map()\n",
    "plt.title('Flow map of Initial wind farm layout, Ambient TI=0.1,WS=10m/s')\n",
    "plt.xlabel('X[m]')\n",
    "plt.ylabel('Y[m]')\n",
    "plt.show()"
   ]
  },
  {
   "cell_type": "code",
   "execution_count": null,
   "metadata": {},
   "outputs": [],
   "source": [
    "plt.figure(figsize=(8,6))\n",
    "ed_res = windFarmModel(wt_edx_opt,wt_edy_opt)\n",
    "flow_map = ed_res.flow_map(ws = 10, wd=260).plot_ti_map()\n",
    "# flow_map.plot_wake_map()\n",
    "plt.title('Flow map of Optimized wind farm layout, Ambient TI=0.1,WS=10m/s')\n",
    "plt.xlabel('X[m]')\n",
    "plt.ylabel('Y[m]')\n",
    "plt.show()"
   ]
  },
  {
   "cell_type": "code",
   "execution_count": null,
   "metadata": {},
   "outputs": [],
   "source": [
    "n_i = recorder4['counter'].size\n",
    "loads = recorder4['loads'].reshape((n_i,s,n_wt))\n",
    "wt = 0\n",
    "for n, ls in enumerate(load_signals):\n",
    "  plt.plot(loads[:,n,wt],label='optimised loads')\n",
    "  plt.title(ls+f' turbine {wt}')\n",
    "  plt.plot([0, n_i], [max_loads[n, wt], max_loads[n, wt]],label='Maximum loads')\n",
    "  plt.xlabel(\"No of iterations\")\n",
    "  plt.ylabel(\"Loads\")\n",
    "  plt.legend()\n",
    "  plt.show()"
   ]
  },
  {
   "cell_type": "code",
   "execution_count": null,
   "metadata": {},
   "outputs": [],
   "source": [
    "wt_xaep,wt_yaep = get_coord(state)\n",
    "wt_xarea,wt_yarea = get_coord(state_ar)\n",
    "wt_xload,wt_yload = get_coord(state_lc)\n",
    "wt_xcd,wt_ycd = get_coord(state_cd)\n",
    "aep1 = get_optimize(state)\n",
    "#aep1['AEP']"
   ]
  },
  {
   "cell_type": "code",
   "execution_count": null,
   "metadata": {},
   "outputs": [],
   "source": [
    "get_area(state_cd)"
   ]
  },
  {
   "cell_type": "code",
   "execution_count": null,
   "metadata": {},
   "outputs": [],
   "source": [
    "get_area(state_lc)"
   ]
  },
  {
   "cell_type": "code",
   "execution_count": null,
   "metadata": {},
   "outputs": [],
   "source": [
    "aep1 = np.array(aep1)\n",
    "aep1 = np.round(aep1,2)\n",
    "print(aep1)\n",
    "area1 = get_area(state)\n",
    "area1 = np.array(area1)\n",
    "area1 = np.round(area1[0]*1e-6,2)\n",
    "aep_opt = get_loads(state)\n",
    "aep_opt_loads = aep_opt[2]\n",
    "aep_opt_tbfa = aep_opt_loads[2]\n",
    "print(aep_opt_tbfa)"
   ]
  },
  {
   "cell_type": "code",
   "execution_count": null,
   "metadata": {},
   "outputs": [],
   "source": [
    "AEP = [303.1078,297.0456,297.629,291.677]\n",
    "plt.figure()\n",
    "plt.plot(AEP,'--bo',label='AEP[Gwh]')\n",
    "# plt.plot(AEP[1],'--bo',label='Minimize Area')\n",
    "# plt.plot(AEP[2],'--bo',label='AEP under loads')\n",
    "# plt.plot(AEP[3],'--bo',label='Minimize Energy density')\n",
    "plt.xticks([0,1,2,3,],['Maximize AEP','Minimize Area','AEP under loads','Maximize Energy density'])\n",
    "plt.ylabel('AEP in Gwh')\n",
    "plt.title('AEP generated for multiple objectives')\n",
    "plt.legend()"
   ]
  },
  {
   "cell_type": "code",
   "execution_count": null,
   "metadata": {},
   "outputs": [],
   "source": [
    "Area = [9734399.99,5014358.8299,5265076.77,3421825.016]\n",
    "plt.figure()\n",
    "plt.plot(AEP,'--go',label='Area[m2]')\n",
    "# plt.plot(AEP[1],'--bo',label='Minimize Area')\n",
    "# plt.plot(AEP[2],'--bo',label='AEP under loads')\n",
    "# plt.plot(AEP[3],'--bo',label='Minimize Energy density')\n",
    "plt.xticks([0,1,2,3,],['Maximize AEP','Minimize Area','AEP under loads','Maximize Energy density'])\n",
    "plt.ylabel('Area in m2')\n",
    "plt.title('Area of layout during multiple objectives')\n",
    "plt.legend()"
   ]
  },
  {
   "cell_type": "code",
   "execution_count": null,
   "metadata": {},
   "outputs": [],
   "source": [
    "# print(wt_xaep[0])\n",
    "# print(wt_yaep[0])\n",
    "# for i in range(len(wt_xaep)):\n",
    "#     wt_x = wt_xaep[i]\n",
    "#     wt_y = wt_yaep[i]\n",
    "#     aep_indv = get_ind_aep(wt_x,wt_y)\n",
    "#     print(aep_indv) \n",
    "\n",
    "sim_res = windFarmModel(wt_xaep,wt_yaep)\n",
    "plt.figure()\n",
    "aep = sim_res.aep()\n",
    "plt.scatter(wt_xaep,wt_yaep,facecolors = 'none')\n",
    "c =plt.scatter(wt_xaep,wt_yaep, c=aep.sum(['wd','ws']))\n",
    "plt.title('AEP optimization, AEP: %s [GWh]' %aep1 + ', Area: %s [Km2]' %area1, fontsize = 12)\n",
    "plt.colorbar(c, label='AEP [GWh]')\n",
    "plt.xlabel('X[m]')\n",
    "plt.ylabel('Y[m]')"
   ]
  },
  {
   "cell_type": "code",
   "execution_count": null,
   "metadata": {},
   "outputs": [],
   "source": [
    "plt.figure(figsize=(6,4))\n",
    "plt.scatter(wt_xaep,wt_yaep,color='b',label='AEP optimal')\n",
    "plt.scatter(wt_xarea,wt_yarea,color='g',label='Area optimal')\n",
    "#plt.scatter(wt_xload,wt_yload,color='m',label='Load constrain')\n",
    "plt.scatter(wt_xcd,wt_ycd,color='k',label='EDenisty optimal')\n",
    "plt.title('Wind Farm layout with 16turbines')\n",
    "plt.xlabel('X[m]')\n",
    "plt.ylabel('Y[m]')\n",
    "plt.legend()\n",
    "plt.show()"
   ]
  },
  {
   "cell_type": "code",
   "execution_count": null,
   "metadata": {},
   "outputs": [],
   "source": [
    "plt.figure(figsize=(6.4, 4), dpi=80)\n",
    "# plt.tick_params(left = False, right = False , labelleft = False ,\n",
    "#                 labelbottom = False, bottom = False)\n",
    "plt.scatter(x = wt_xaep, y = wt_yaep,color = 'b' ) # c = single_AEP_OPT_GWh, cmap=\"rainbow\"\n",
    "#plt.clim(min_plot,max_plot)\n",
    "# cbar = plt.colorbar(orientation=\"vertical\")\n",
    "# cbar.set_label(label=\"Single AEP GWh [GWh]\", size = 15)\n",
    "# cbar.ax.tick_params(labelsize=15)\n",
    "plt.title('AEP optimization, AEP: %s [GWh]' %aep1 + ', Area: %s [Km2]' %area1, fontsize = 12)\n",
    "# plt.savefig('./Figures/Optimized/ ' + 'AEP_LILLGRUND_HH'+ '_Opt_andr' + '.png')\n",
    "plt.show()"
   ]
  },
  {
   "cell_type": "code",
   "execution_count": null,
   "metadata": {},
   "outputs": [],
   "source": [
    "sim_res = windFarmModel(wt_aepx_opt,wt_aepy_opt)\n",
    "plt.figure()\n",
    "aep = sim_res.aep()\n",
    "plt.scatter(wt_aepx_opt,wt_aepy_opt,facecolors = 'none')\n",
    "c =plt.scatter(wt_aepx_opt,wt_aepy_opt, c=aep.sum(['wd','ws']))\n",
    "plt.title('AEP optimization, AEP: %s [GWh]' %aep1 + ', Area: %s [Km2]' %area1, fontsize = 12)\n",
    "plt.colorbar(c, label='AEP [GWh]')\n",
    "plt.xlabel('X[m]')\n",
    "plt.ylabel('Y[m]')"
   ]
  },
  {
   "cell_type": "code",
   "execution_count": null,
   "metadata": {},
   "outputs": [],
   "source": [
    "areaopt = get_area(state_ar)\n",
    "areaopt  = np.array(areaopt)\n",
    "aep2 = np.round(areaopt[1],2)\n",
    "area2 = np.round(areaopt[0]*1e-6,2)\n",
    "area_opt = get_loads(state_ar)\n",
    "area_opt_loads  = area_opt[2]\n",
    "area_opt_tbfa = area_opt_loads[2]\n",
    "print(area_opt_tbfa)"
   ]
  },
  {
   "cell_type": "code",
   "execution_count": null,
   "metadata": {},
   "outputs": [],
   "source": [
    "plt.figure(figsize=(6.4, 4), dpi=80)\n",
    "plt.scatter(x = wt_xarea, y = wt_yarea, color = 'g')\n",
    "plt.title('Area optimization, AEP: %s [GWh]' %aep2 + ', Area: %s [Km2]' %area2, fontsize = 12)\n",
    "plt.show()"
   ]
  },
  {
   "cell_type": "code",
   "execution_count": null,
   "metadata": {},
   "outputs": [],
   "source": [
    "sim_res = windFarmModel(wt_areax_opt,wt_areay_opt)\n",
    "plt.figure()\n",
    "aep = sim_res.aep()\n",
    "plt.scatter(wt_areax_opt,wt_areay_opt,facecolors = 'none')\n",
    "c =plt.scatter(wt_areax_opt,wt_areay_opt, c=aep.sum(['wd','ws']))\n",
    "plt.title('Area optimization, AEP: %s [GWh]' %aep2 + ', Area: %s [Km2]' %area2, fontsize = 12)\n",
    "plt.colorbar(c, label='AEP [GWh]')\n",
    "plt.xlabel('X[m]')\n",
    "plt.ylabel('Y[m]')"
   ]
  },
  {
   "cell_type": "code",
   "execution_count": null,
   "metadata": {},
   "outputs": [],
   "source": [
    "load_opt = get_loads(state_lc)\n",
    "print(load_opt)\n",
    "area_load = round(load_opt[1]*1e-6,2)\n",
    "aep_load = np.array(load_opt[0])\n",
    "aep_load = np.round(aep_load,2)\n",
    "load_opt_loads = load_opt[2]\n",
    "load_opt_tbfa = load_opt_loads[2] \n",
    "print(load_opt_tbfa)"
   ]
  },
  {
   "cell_type": "code",
   "execution_count": null,
   "metadata": {},
   "outputs": [],
   "source": [
    "plt.figure(figsize=(6.4, 4), dpi=80)\n",
    "plt.scatter(x = wt_xload, y = wt_yload, color = 'm')\n",
    "plt.title('AEP_opt with loads, AEP: %s [GWh]' %aep_load + ', Area: %s [Km2]' %area2, fontsize = 11)\n",
    "plt.show()"
   ]
  },
  {
   "cell_type": "code",
   "execution_count": null,
   "metadata": {},
   "outputs": [],
   "source": [
    "sim_res = windFarmModel(wt_aepldx_opt,wt_aepldy_opt)\n",
    "plt.figure()\n",
    "aep = sim_res.aep()\n",
    "plt.scatter(wt_aepldx_opt,wt_aepldy_opt,facecolors = 'none')\n",
    "c =plt.scatter(wt_aepldx_opt,wt_aepldy_opt, c=aep.sum(['wd','ws']))\n",
    "plt.title('AEP_opt with loads, AEP: %s [GWh]' %aep_load + ', Area: %s [Km2]' %area2, fontsize = 11)\n",
    "plt.colorbar(c, label='AEP [GWh]')"
   ]
  },
  {
   "cell_type": "code",
   "execution_count": null,
   "metadata": {},
   "outputs": [],
   "source": [
    "cd_opt = get_cap_density(state_cd)\n",
    "print(cd_opt)\n",
    "area_cd = round(cd_opt[2],2)\n",
    "aep_cd = np.array(cd_opt[1])\n",
    "aep_cd = np.round(aep_cd*1e-3,2)\n",
    "print(area_cd)"
   ]
  },
  {
   "cell_type": "code",
   "execution_count": null,
   "metadata": {},
   "outputs": [],
   "source": [
    "plt.figure(figsize=(6.4, 4), dpi=80)\n",
    "plt.scatter(x = wt_xcd, y = wt_ycd,color = 'k')\n",
    "plt.title('Energy_density_opt, AEP: %s [GWh]' %aep_cd + ', Area: %s [Km2]' %area_cd, fontsize = 11)\n",
    "plt.show()"
   ]
  },
  {
   "cell_type": "code",
   "execution_count": null,
   "metadata": {},
   "outputs": [],
   "source": [
    "sim_res = windFarmModel(wt_xcd,wt_ycd)\n",
    "plt.figure()\n",
    "aep = sim_res.aep()\n",
    "plt.scatter(wt_xcd,wt_ycd,facecolors = 'none')\n",
    "c =plt.scatter(wt_xcd,wt_ycd, c=aep.sum(['wd','ws']))\n",
    "plt.title('Energy_density_opt, AEP: %s [GWh]' %aep_cd + ', Area: %s [Km2]' %area_cd, fontsize = 11)\n",
    "plt.colorbar(c, label='AEP [GWh]')\n",
    "plt.xlabel('X[m]')\n",
    "plt.ylabel('Y[m]')"
   ]
  },
  {
   "cell_type": "code",
   "execution_count": null,
   "metadata": {},
   "outputs": [],
   "source": [
    "plt.plot([0,1,2,3],[aep1,aep2,aep_load,aep_cd])\n",
    "plt.scatter(x=0,y=aep1,color='b',label = 'AEP opt')\n",
    "plt.scatter(x=1,y=aep2,color='g',label = 'Area opt')\n",
    "plt.scatter(x=2,y=aep_load,color='m',label = 'AEP_opt with loads')\n",
    "plt.scatter(x=3,y=aep_cd,color='k',label = 'Energy denisty opt')\n",
    "#plt.xlabel('Optimization')\n",
    "plt.ylabel('AEP [GWh]')\n",
    "plt.xticks(np.arange(4),['AEP','Area','Loads','Energy_den'])\n",
    "plt.legend()\n",
    "plt.title('AEP during different optimizations')"
   ]
  },
  {
   "cell_type": "code",
   "execution_count": null,
   "metadata": {},
   "outputs": [],
   "source": [
    "plt.plot([0,1,2,3],[area1,area2,area_load,area_cd])\n",
    "plt.scatter(x=0,y=area1,color='b',label = 'AEP opt')\n",
    "plt.scatter(x=1,y=area2,color='g',label = 'Area opt')\n",
    "plt.scatter(x=2,y=area_load,color='m',label = 'AEP_opt with loads')\n",
    "plt.scatter(x=3,y=area_cd,color='k',label = 'Energy denisty opt')\n",
    "#plt.xlabel('Optimization')\n",
    "plt.ylabel('Area [Km2]')\n",
    "plt.xticks(np.arange(4),['AEP','Area','Loads','Energy_den'])\n",
    "plt.legend()\n",
    "plt.title('Area during different optimizations')"
   ]
  },
  {
   "cell_type": "code",
   "execution_count": null,
   "metadata": {},
   "outputs": [],
   "source": [
    "plt.plot(recorder1['aep_final'],label='AEP optimization')\n",
    "plt.plot(recorder2['aep_final'][:85],label='Area optimization')\n",
    "plt.plot(recorder3['aep_final'],label='AEP loads opt')\n",
    "plt.plot(recorder4['aep_final']*1e-3,label='Energy_density_opt')\n",
    "plt.xlabel('No of iterations')\n",
    "plt.ylabel('AEP in Gwh')\n",
    "plt.title('Optimal AEP from sequential optimizations')\n",
    "plt.legend()\n",
    "plt.show()"
   ]
  },
  {
   "cell_type": "code",
   "execution_count": null,
   "metadata": {},
   "outputs": [],
   "source": [
    "aep_area,aep=get_area(state)\n",
    "print(aep_area)"
   ]
  },
  {
   "cell_type": "code",
   "execution_count": null,
   "metadata": {},
   "outputs": [],
   "source": [
    "plt.plot(recorder2['final_area'][:85],'m',label='Area optimization')\n",
    "plt.plot(recorder3['final_area'],label='AEP loads opt')\n",
    "plt.plot(recorder4['final_area']*1e6,label='Energy_density_opt')\n",
    "plt.plot(plt.xlim(),[aep_area,aep_area],label='AEP optimization')\n",
    "plt.xlabel('No of iterations')\n",
    "plt.ylabel('Area in m2')\n",
    "plt.title('Optimal Area from sequential optimizations')\n",
    "plt.legend()\n",
    "plt.show()"
   ]
  },
  {
   "cell_type": "code",
   "execution_count": null,
   "metadata": {},
   "outputs": [],
   "source": [
    "# for constraint_value, max_value in zip(problem4.driver.get_constraint_values['cost_comp.loads'], max_loads.ravel()):\n",
    "#     print(constraint_value / max_value)\n",
    "# ldel = loads[:,n,wt]/[max_loads[n, wt], max_loads[n, wt]]\n",
    "# print(ldel)\n",
    "loads_cd = cd_opt[3]\n",
    "loads_cd_flap  = loads_cd[0]\n",
    "loads_cd_edge  = loads_cd[1]\n",
    "loads_cd_tbfa = loads_cd[2]\n",
    "loads_cd_tbss = loads_cd[3]\n",
    "loads_cd_tor  = loads_cd[4]"
   ]
  },
  {
   "cell_type": "code",
   "execution_count": null,
   "metadata": {},
   "outputs": [],
   "source": [
    "flap_cd_norm = preprocessing.normalize([loads_cd_flap])\n",
    "annotations = np.linspace(0,15,16,dtype = int)\n",
    "plt.figure(figsize=(6,4))\n",
    "plt.scatter(wt_xcd,wt_ycd,facecolors = 'none',label = 'IEA34')\n",
    "c =plt.scatter(wt_xcd,wt_ycd, c=flap_cd_norm)\n",
    "plt.title('Energy_density_opt, AEP: %s [GWh]' %aep_cd + ', Area: %s [Km2]' %area_cd, fontsize = 11)\n",
    "plt.colorbar(c, label='Flapwise BM [kN-m]')\n",
    "plt.xlabel('X[m]')\n",
    "plt.ylabel('Y[m]')\n",
    "for i, label in enumerate(annotations):\n",
    "    plt.annotate(label, (wt_xcd[i], wt_ycd[i]))\n",
    "plt.legend()"
   ]
  },
  {
   "cell_type": "code",
   "execution_count": null,
   "metadata": {},
   "outputs": [],
   "source": [
    "tbfa_cd_norm = preprocessing.normalize([loads_cd_tbfa])\n",
    "annotations = np.linspace(0,15,16,dtype = int)\n",
    "plt.figure(figsize=(6,4))\n",
    "plt.scatter(wt_xcd,wt_ycd,facecolors = 'none',label = 'IEA34')\n",
    "c =plt.scatter(wt_xcd,wt_ycd, c=tbfa_cd_norm)\n",
    "plt.title('Energy_density_opt, AEP: %s [GWh]' %aep_cd + ', Area: %s [Km2]' %area_cd, fontsize = 11)\n",
    "plt.colorbar(c, label='Tower Base Fore-aft [N/m2]')\n",
    "plt.xlabel('X[m]')\n",
    "plt.ylabel('Y[m]')\n",
    "for i, label in enumerate(annotations):\n",
    "    plt.annotate(label, (wt_xcd[i], wt_ycd[i]))\n",
    "plt.legend()"
   ]
  },
  {
   "cell_type": "code",
   "execution_count": null,
   "metadata": {},
   "outputs": [],
   "source": [
    "tbss_cd_norm = preprocessing.normalize([loads_cd_tbss])\n",
    "annotations = np.linspace(0,15,16,dtype = int)\n",
    "plt.figure(figsize=(6,4))\n",
    "plt.scatter(wt_xcd,wt_ycd,facecolors = 'none',label = 'IEA34')\n",
    "c =plt.scatter(wt_xcd,wt_ycd, c=tbss_cd_norm)\n",
    "plt.title('Energy_density_opt, AEP: %s [GWh]' %aep_cd + ', Area: %s [Km2]' %area_cd, fontsize = 11)\n",
    "plt.colorbar(c, label='Tower Base Side-Side [N/m2]')\n",
    "plt.xlabel('X[m]')\n",
    "plt.ylabel('Y[m]')\n",
    "for i, label in enumerate(annotations):\n",
    "    plt.annotate(label, (wt_xcd[i], wt_ycd[i]))\n",
    "plt.legend()"
   ]
  },
  {
   "cell_type": "code",
   "execution_count": null,
   "metadata": {},
   "outputs": [],
   "source": [
    "edge_cd_norm = preprocessing.normalize([loads_cd_edge])\n",
    "annotations = np.linspace(0,15,16,dtype = int)\n",
    "plt.figure(figsize=(6,4))\n",
    "plt.scatter(wt_xcd,wt_ycd,facecolors = 'none',label = 'IEA34')\n",
    "c =plt.scatter(wt_xcd,wt_ycd, c=edge_cd_norm)\n",
    "plt.title('Energy_density_opt, AEP: %s [GWh]' %aep_cd + ', Area: %s [Km2]' %area_cd, fontsize = 11)\n",
    "plt.colorbar(c, label='Edge-wise BM [N/m2]')\n",
    "plt.xlabel('X[m]')\n",
    "plt.ylabel('Y[m]')\n",
    "for i, label in enumerate(annotations):\n",
    "    plt.annotate(label, (wt_xcd[i], wt_ycd[i]))\n",
    "plt.legend()"
   ]
  },
  {
   "cell_type": "code",
   "execution_count": null,
   "metadata": {},
   "outputs": [],
   "source": [
    "tor_cd_norm = preprocessing.normalize([loads_cd_tor])\n",
    "annotations = np.linspace(0,15,16,dtype = int)\n",
    "plt.figure(figsize=(6,4))\n",
    "plt.scatter(wt_xcd,wt_ycd,facecolors = 'none',label = 'IEA34')\n",
    "c =plt.scatter(wt_xcd,wt_ycd, c=tor_cd_norm)\n",
    "plt.title('Energy_density_opt, AEP: %s [GWh]' %aep_cd + ', Area: %s [Km2]' %area_cd, fontsize = 11)\n",
    "plt.colorbar(c, label='Shaft Torsion [N/m2]')\n",
    "plt.xlabel('X[m]')\n",
    "plt.ylabel('Y[m]')\n",
    "for i, label in enumerate(annotations):\n",
    "    plt.annotate(label, (wt_xcd[i], wt_ycd[i]))\n",
    "plt.legend()"
   ]
  },
  {
   "cell_type": "code",
   "execution_count": null,
   "metadata": {},
   "outputs": [],
   "source": [
    "flap_load_norm = preprocessing.normalize([load_opt_flap])\n",
    "plt.figure(figsize=(6,4))\n",
    "plt.scatter(wt_xload,wt_yload,facecolors = 'none',label = 'IEA34')\n",
    "c =plt.scatter(wt_xload,wt_yload, c=tbfa_load_norm)\n",
    "plt.title('AEP_opt with loads, AEP: %s [GWh]' %aep_load + ', Area: %s [Km2]' %area_load, fontsize = 11)\n",
    "plt.colorbar(c, label='Tower Base Fore-aft [N/m2]')\n",
    "for i, label in enumerate(annotations):\n",
    "    plt.annotate(label, (wt_xload[i], wt_yload[i]))\n",
    "plt.legend()"
   ]
  },
  {
   "cell_type": "code",
   "execution_count": null,
   "metadata": {},
   "outputs": [],
   "source": [
    "tbfa_area_norm = preprocessing.normalize([area_opt_tbfa])\n",
    "plt.figure(figsize=(6,4))\n",
    "plt.scatter(wt_xarea,wt_yarea,facecolors = 'none',label = 'IEA34')\n",
    "c =plt.scatter(wt_xarea,wt_yarea, c=tbfa_area_norm)\n",
    "plt.title('Area_optimization, AEP: %s [GWh]' %aep2 + ', Area: %s [Km2]' %area2, fontsize = 11)\n",
    "plt.colorbar(c, label='Tower Base Fore-aft [N/m2]')\n",
    "for i, label in enumerate(annotations):\n",
    "    plt.annotate(label, (wt_xarea[i], wt_yarea[i]))\n",
    "plt.legend()"
   ]
  },
  {
   "cell_type": "code",
   "execution_count": null,
   "metadata": {},
   "outputs": [],
   "source": [
    "tbfa_aep_norm = preprocessing.normalize([aep_opt_tbfa])\n",
    "plt.figure(figsize=(6,4))\n",
    "plt.scatter(wt_xaep,wt_yaep,facecolors = 'none',label = 'IEA34')\n",
    "c =plt.scatter(wt_xaep,wt_yaep, c=tbfa_aep_norm)\n",
    "plt.title('AEP_optimization, AEP: %s [GWh]' %aep1 + ', Area: %s [Km2]' %area1, fontsize = 11)\n",
    "plt.colorbar(c, label='Tower Base Fore-aft [N/m2]')\n",
    "for i, label in enumerate(annotations):\n",
    "    plt.annotate(label, (wt_xaep[i], wt_yaep[i]))\n",
    "plt.legend()"
   ]
  },
  {
   "cell_type": "code",
   "execution_count": null,
   "metadata": {},
   "outputs": [],
   "source": [
    "plt.figure()\n",
    "flow_map = sim_res.flow_map(ws = 10, wd=270)\n",
    "plt.figure(figsize=(8,6))\n",
    "flow_map.plot_wake_map()"
   ]
  },
  {
   "cell_type": "code",
   "execution_count": null,
   "metadata": {},
   "outputs": [],
   "source": [
    "#resl = np.empty((5,1))\n",
    "ws_l  = np.arange(3,10)\n",
    "wdir = np.arange(225,270,10)\n",
    "#ws_loads = np.empty((5,1))\n",
    "resl = windFarmModel(wt_xaep,wt_yaep,ws=np.arange(10,16))\n",
    "print(resl['TI_eff'])\n",
    "resl.loads('OneWT')['LDEL'].values"
   ]
  },
  {
   "cell_type": "code",
   "execution_count": null,
   "metadata": {},
   "outputs": [],
   "source": [
    "import matplotlib.pyplot as plt\n",
    "from matplotlib import cm\n",
    "from matplotlib.ticker import LinearLocator\n",
    "import numpy as np\n",
    "\n",
    "fig, ax = plt.subplots(subplot_kw={\"projection\": \"3d\"})\n",
    "\n",
    "# Make data.\n",
    "X = np.arange(-5, 5, 0.25)\n",
    "Y = np.arange(-5, 5, 0.25)\n",
    "X, Y = np.meshgrid(X, Y)\n",
    "R = np.sqrt(X**2 + Y**2)\n",
    "Z = np.sin(R)\n",
    "\n",
    "# Plot the surface.\n",
    "surf = ax.plot_surface(X, Y, Z, cmap=cm.coolwarm,\n",
    "                       linewidth=0, antialiased=False)\n",
    "# Customize the z axis.\n",
    "ax.set_zlim(-1.01, 1.01)\n",
    "ax.zaxis.set_major_locator(LinearLocator(10))\n",
    "# A StrMethodFormatter is used automatically\n",
    "ax.zaxis.set_major_formatter('{x:.02f}')\n",
    "\n",
    "# Add a color bar which maps values to colors.\n",
    "fig.colorbar(surf, shrink=0.5, aspect=5)\n",
    "\n",
    "plt.show()"
   ]
  }
 ],
 "metadata": {
  "kernelspec": {
   "display_name": "Python 3.9.7 ('topfarm')",
   "language": "python",
   "name": "python3"
  },
  "language_info": {
   "codemirror_mode": {
    "name": "ipython",
    "version": 3
   },
   "file_extension": ".py",
   "mimetype": "text/x-python",
   "name": "python",
   "nbconvert_exporter": "python",
   "pygments_lexer": "ipython3",
   "version": "3.9.7"
  },
  "orig_nbformat": 4,
  "vscode": {
   "interpreter": {
    "hash": "9405622a5a872ed5e336108eb5d54f775fdbe75c8f53d7f7fe3f8955f808b38f"
   }
  }
 },
 "nbformat": 4,
 "nbformat_minor": 2
}
